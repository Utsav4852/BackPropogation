{
 "cells": [
  {
   "cell_type": "code",
   "execution_count": 1,
   "metadata": {},
   "outputs": [],
   "source": [
    "import numpy as np #import libraries\n",
    "import scipy\n",
    "from sklearn.preprocessing import LabelBinarizer\n",
    "from sklearn.base import BaseEstimator, ClassifierMixin, RegressorMixin"
   ]
  },
  {
   "cell_type": "code",
   "execution_count": 2,
   "metadata": {},
   "outputs": [],
   "source": [
    "from elm import ELMClassifier # download elm.py and random_layer.py from https://www.ntu.edu.sg/home/egbhuang/ and import ELMClassifier function from elm.py file. \n",
    "\n",
    "from sklearn.model_selection import train_test_split # import sklearn for split data"
   ]
  },
  {
   "cell_type": "code",
   "execution_count": 3,
   "metadata": {},
   "outputs": [],
   "source": [
    "import pandas as pd\n",
    "import numpy as np\n",
    "irx = pd.read_csv(\"cancer_data.csv\") #read  dataset\n",
    "irx = np.array(irx)\n",
    "\n",
    "iry = pd.read_csv(\"cancer_data_y.csv\") #read data lables\n",
    "iry = np.array(iry)\n",
    "\n",
    "\n",
    "\n"
   ]
  },
  {
   "cell_type": "code",
   "execution_count": 4,
   "metadata": {},
   "outputs": [],
   "source": [
    "irx_train, irx_test, iry_train, iry_test = train_test_split(irx, iry, test_size=0.4, random_state=20) # split dataset into train and test"
   ]
  },
  {
   "cell_type": "code",
   "execution_count": 6,
   "metadata": {},
   "outputs": [
    {
     "data": {
      "text/plain": [
       "(89, 30)"
      ]
     },
     "execution_count": 6,
     "metadata": {},
     "output_type": "execute_result"
    }
   ],
   "source": [
    "irx_train.shape"
   ]
  },
  {
   "cell_type": "code",
   "execution_count": 9,
   "metadata": {},
   "outputs": [
    {
     "data": {
      "text/plain": [
       "(89, 1)"
      ]
     },
     "execution_count": 9,
     "metadata": {},
     "output_type": "execute_result"
    }
   ],
   "source": [
    "iry_train.shape"
   ]
  },
  {
   "cell_type": "code",
   "execution_count": 11,
   "metadata": {},
   "outputs": [
    {
     "name": "stdout",
     "output_type": "stream",
     "text": [
      " Trainning accurracy of datset:-  0.9887640449438202\n"
     ]
    }
   ],
   "source": [
    "elmc = ELMClassifier(n_hidden=100, activation_func='gaussian', alpha=0.0, random_state=0) #call ELMClassifier Function\n",
    "elmc.fit(irx,iry)\n",
    "print (\" Trainning accurracy of datset:- \",elmc.score(irx_train, iry_train)) #return training accurarcy print"
   ]
  },
  {
   "cell_type": "code",
   "execution_count": 12,
   "metadata": {},
   "outputs": [
    {
     "name": "stdout",
     "output_type": "stream",
     "text": [
      " Testing accurracy of datset:-  0.9833333333333333\n"
     ]
    }
   ],
   "source": [
    "elmc = ELMClassifier(n_hidden=100, activation_func='gaussian', alpha=0.0, random_state=0)\n",
    "elmc.fit(irx,iry)\n",
    "print (\" Testing accurracy of datset:- \",elmc.score(irx_test, iry_test)) #return testing accurarcy print "
   ]
  },
  {
   "cell_type": "code",
   "execution_count": null,
   "metadata": {},
   "outputs": [],
   "source": []
  }
 ],
 "metadata": {
  "kernelspec": {
   "display_name": "Python 3",
   "language": "python",
   "name": "python3"
  },
  "language_info": {
   "codemirror_mode": {
    "name": "ipython",
    "version": 3
   },
   "file_extension": ".py",
   "mimetype": "text/x-python",
   "name": "python",
   "nbconvert_exporter": "python",
   "pygments_lexer": "ipython3",
   "version": "3.7.3"
  }
 },
 "nbformat": 4,
 "nbformat_minor": 2
}
